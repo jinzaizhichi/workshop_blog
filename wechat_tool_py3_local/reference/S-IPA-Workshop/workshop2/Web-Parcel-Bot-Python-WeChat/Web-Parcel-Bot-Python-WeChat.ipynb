{
 "cells": [
  {
   "cell_type": "code",
   "execution_count": null,
   "metadata": {},
   "outputs": [],
   "source": [
    "import IPython.display\n",
    "IPython.display.YouTubeVideo('TBD')"
   ]
  },
  {
   "cell_type": "markdown",
   "metadata": {},
   "source": [
    "# Intelligent Process Automation / Intelligent Agent\n",
    "zhan.gu@nus.edu.sg"
   ]
  },
  {
   "cell_type": "markdown",
   "metadata": {},
   "source": [
    "# A workshop to develop & use an intelligent and interactive chat-bot in WeChat\n",
    "\n",
    "# For Automated Parcel Status Enquiry"
   ]
  },
  {
   "cell_type": "markdown",
   "metadata": {},
   "source": [
    "<img src='reference/WeChat_IPA-Bot_Parcel_Enquiry.jpg' width=50% style=\"float: left;\">"
   ]
  },
  {
   "cell_type": "markdown",
   "metadata": {},
   "source": [
    "<img src='reference/WeChat_IPA-Bot_Parcel_Enquiry_Status.png' width=100% style=\"float: left;\">"
   ]
  },
  {
   "cell_type": "markdown",
   "metadata": {},
   "source": [
    "### Imports / 导入需要用到的一些功能程序库："
   ]
  },
  {
   "cell_type": "code",
   "execution_count": 1,
   "metadata": {},
   "outputs": [
    {
     "name": "stdout",
     "output_type": "stream",
     "text": [
      "█\r"
     ]
    }
   ],
   "source": [
    "# from __future__ import unicode_literals, division\n",
    "import time, datetime, requests, itchat\n",
    "from itchat.content import *"
   ]
  },
  {
   "cell_type": "code",
   "execution_count": 2,
   "metadata": {},
   "outputs": [],
   "source": [
    "import tagui as t\n",
    "from time import localtime, strftime\n",
    "# import pandas as pd"
   ]
  },
  {
   "cell_type": "markdown",
   "metadata": {},
   "source": [
    "### Function: Enquire_Parcel"
   ]
  },
  {
   "cell_type": "code",
   "execution_count": 3,
   "metadata": {},
   "outputs": [],
   "source": [
    "# Function\n",
    "# input : Parcel ID, type: string\n",
    "# Return: File name of screenshot png image containing parcel status results, type: string\n",
    "\n",
    "def Enquire_Parcel(str_parcel_id):\n",
    "#     print('str_parcel_id   : ', str_parcel_id)\n",
    "\n",
    "    result_filename = 'results/' + str(str_parcel_id).lstrip() + strftime(\"-%Y-%m-%d-%Hm%Mm%Ss\", localtime()) + '.png'\n",
    "#     print('result_filename : ', result_filename)\n",
    "    \n",
    "    t.init(visual_automation = True)\n",
    "    t.url('http://qexpress.co.nz/tracking.aspx?orderNumber=' + str(str_parcel_id).lstrip())\n",
    "    t.wait(0.5)\n",
    "    t.keyboard('[end]')\n",
    "    t.wait(0.5)\n",
    "    t.snap('page.png', result_filename)\n",
    "    t.wait(0.5)\n",
    "    t.close()\n",
    "    print('[ Enquie Parcel ] ID : {} | File Name : {}'.format(str_parcel_id, result_filename)) \n",
    "    return result_filename;"
   ]
  },
  {
   "cell_type": "markdown",
   "metadata": {},
   "source": [
    "---"
   ]
  },
  {
   "cell_type": "code",
   "execution_count": 4,
   "metadata": {
    "scrolled": true
   },
   "outputs": [
    {
     "name": "stdout",
     "output_type": "stream",
     "text": [
      "[ Enquie Parcel ] ID : DZ140053181NZ | File Name : results/DZ140053181NZ-2019-07-25-12m25m35s.png\n"
     ]
    }
   ],
   "source": [
    "#######################################################################\n",
    "### Optional Adhoc Test\n",
    "### Function: Enquire_Parcel\n",
    "#######################################################################\n",
    "\n",
    "msg_parcel_id = 'DZ140053181NZ'\n",
    "msg_filename = Enquire_Parcel(msg_parcel_id)"
   ]
  },
  {
   "cell_type": "markdown",
   "metadata": {},
   "source": [
    "---"
   ]
  },
  {
   "cell_type": "markdown",
   "metadata": {},
   "source": [
    "### * Log in web WeChat using QR code image / 用微信App扫QR码图片来自动登录"
   ]
  },
  {
   "cell_type": "code",
   "execution_count": 5,
   "metadata": {
    "scrolled": false
   },
   "outputs": [
    {
     "name": "stderr",
     "output_type": "stream",
     "text": [
      "Getting uuid of QR code.\n",
      "Downloading QR code.\n"
     ]
    },
    {
     "name": "stdout",
     "output_type": "stream",
     "text": [
      "                                                                              \n",
      "  ██████████████    ██  ██  ████      ██    ██    ██  ██      ██████████████  \n",
      "  ██          ██    ██    ██████        ██  ██      ██        ██          ██  \n",
      "  ██  ██████  ██  ████████████  ████  ██    ██      ██  ████  ██  ██████  ██  \n",
      "  ██  ██████  ██  ██  ██████  ████  ██  ████████    ████████  ██  ██████  ██  \n",
      "  ██  ██████  ██    ██  ██        ██  ████  ██████  ████      ██  ██████  ██  \n",
      "  ██          ██      ██  ██    ██  ██  ██████████    ██      ██          ██  \n",
      "  ██████████████  ██  ██  ██  ██  ██  ██  ██  ██  ██  ██  ██  ██████████████  \n",
      "                    ██  ████    ████    ████  ██  ████  ████                  \n",
      "        ████  ████  ██████  ██          ██    ████                  ████      \n",
      "        ██████  ████                      ████  ██  ██  ████████████  ████    \n",
      "    ██      ████  ██████████  ██████        ████  ████  ██████████        ██  \n",
      "    ██  ██      ██  ██  ██  ██      ██████  ██  ██    ██  ██████    ████  ██  \n",
      "  ██  ██      ██████    ██      ██    ██████            ████  ████  ████████  \n",
      "      ██    ██  ██████████████  ████  ██████  ██████  ████████    ██  ██      \n",
      "        ██████████      ██    ██  ██████  ████  ██████  ██  ████  ██████████  \n",
      "  ██    ██  ██    ██      ██    ████████  ██  ██        ██  ██    ████████    \n",
      "      ████████████  ████  ████████  ██    ████████  ██    ██  ████    ██  ██  \n",
      "  ████████  ██  ██  ████    ██████    ████  ██  ██████  ██  ██  ██      ██    \n",
      "      ██  ██  ██  ████  ██    ████  ████    ████  ██    ██      ██    ██  ██  \n",
      "        ██      ██████      ██████  ████████      ████      ██      ██        \n",
      "  ██    ██  ████    ██████      ████      ██    ████████  ██████  ████        \n",
      "  ████              ██████      ████          ██  ██████████    ████  ██████  \n",
      "      ██  ██  ████  ██  ██    ████      ████  ██  ██    ██    ██  ██      ██  \n",
      "  ██  ████████  ██  ██  ████    ████    ██    ██████  ██████    ██    ██      \n",
      "    ████    ████          ██  ██      ██  ██████    ████      ██    ██  ████  \n",
      "  ██  ██          ████████      ████    ██████    ██  ██  ██████  ████████    \n",
      "  ████    ██  ████  ████    ██    ████  ████  ██    ████████  ██  ████  ████  \n",
      "  ██  ██    ██        ██  ██    ██  ██      ████  ██  ████████    ██████      \n",
      "  ██    ████████████  ████    ████    ██████  ████  ██    ██████████████      \n",
      "                  ██  ██████          ██    ██      ██    ██      ████████    \n",
      "  ██████████████  ██████████  ██  ██  ██        ████      ██  ██  ██████  ██  \n",
      "  ██          ██    ████    ██████████      ██  ████████  ██      ████  ██    \n",
      "  ██  ██████  ██  ████    ██████████  ██  ██    ████    ████████████    ██    \n",
      "  ██  ██████  ██  ██  ██  ██        ██  ████        ████████  ██    ██        \n",
      "  ██  ██████  ██    ██  ████  ██  ████  ██  ██    ██  ██  ██    ████████████  \n",
      "  ██          ██      ████  ██        ██    ██        ██      ██  ██  ██████  \n",
      "  ██████████████    ██        ██  ████    ████      ██    ██  ██    ██    ██  \n",
      "                                                                              \n"
     ]
    },
    {
     "name": "stderr",
     "output_type": "stream",
     "text": [
      "Please scan the QR code to log in.\n",
      "Please press confirm on your phone.\n",
      "Loading the contact, this may take a little while.\n",
      "Login successfully as IPA-Bot\n"
     ]
    }
   ],
   "source": [
    "# itchat.auto_login(hotReload=True) # hotReload=True: 退出程序后暂存登陆状态。即使程序关闭，一定时间内重新开启也可以不用重新扫码。\n",
    "itchat.auto_login(enableCmdQR=-2) # enableCmdQR=-2: 命令行显示QR图片"
   ]
  },
  {
   "cell_type": "code",
   "execution_count": 6,
   "metadata": {},
   "outputs": [],
   "source": [
    "# If click Kernel -> Interupt, then hot re-login is possible:\n",
    "# itchat.auto_login(hotReload=True)"
   ]
  },
  {
   "cell_type": "markdown",
   "metadata": {},
   "source": [
    "---"
   ]
  },
  {
   "cell_type": "code",
   "execution_count": 7,
   "metadata": {},
   "outputs": [
    {
     "name": "stdout",
     "output_type": "stream",
     "text": [
      "NickName  : 白黑\n",
      "Alias A-ID: \n",
      "RemarkName: \n",
      "UserName  : @f9f491d00285c688e41e618b45c0f05a\n",
      "请求成功\n"
     ]
    }
   ],
   "source": [
    "#######################################################################\n",
    "### Optional Adhoc Test\n",
    "### Send Enquire_Parcel status through WeChat\n",
    "#######################################################################\n",
    "\n",
    "# Locate User / 获取分别对应相应键值的用户。\n",
    "\n",
    "# friend = itchat.search_friends(name=u'IPA-Bot')\n",
    "friend = itchat.search_friends(name=u'白黑')\n",
    "\n",
    "for i in range(0, len(friend)):\n",
    "    print('NickName  : %s' % friend[i]['NickName'])\n",
    "    print('Alias A-ID: %s' % friend[i]['Alias'])\n",
    "    print('RemarkName: %s' % friend[i]['RemarkName'])\n",
    "    print('UserName  : %s' % friend[i]['UserName'])\n",
    "\n",
    "# Picture / 图片\n",
    "reply = itchat.send_image(msg_filename, friend[0]['UserName']) \n",
    "print(reply['BaseResponse']['ErrMsg'])"
   ]
  },
  {
   "cell_type": "markdown",
   "metadata": {},
   "source": [
    "---"
   ]
  },
  {
   "cell_type": "markdown",
   "metadata": {},
   "source": [
    "### *  Interactive Conversation : Auto Mode / 自定义复杂消息处理，例如：信息存档、回复群组中被@的消息"
   ]
  },
  {
   "cell_type": "markdown",
   "metadata": {},
   "source": [
    "### Parcel Enquiry module"
   ]
  },
  {
   "cell_type": "code",
   "execution_count": 8,
   "metadata": {},
   "outputs": [],
   "source": [
    "# 如果收到[TEXT, MAP, CARD, NOTE, SHARING]类的信息，会自动回复：\n",
    "@itchat.msg_register([TEXT, MAP, CARD, NOTE, SHARING]) # 文字、位置、名片、通知、分享\n",
    "def text_reply(msg):\n",
    "    print(u'[ Terminal Info ] Thank you! 谢谢亲[嘴唇]我已收到 I received: [ %s ] %s From: %s' \n",
    "          % (msg['Type'], msg['Text'], msg['FromUserName']))\n",
    "    itchat.send(u'Thank you! 谢谢亲[嘴唇]我已收到\\nI received:\\n[ %s ]\\n%s' % (msg['Type'], msg['Text']), msg['FromUserName'])\n",
    "    \n",
    "    ######################################################################################################\n",
    "    # Parcel Enquiry module\n",
    "    ######################################################################################################\n",
    "    if \"Parcel\" in msg['Text'] or \"parcel\" in msg['Text']: # Check parcel enquiry command keyword: Parcel\n",
    "        msg_filename = Enquire_Parcel(msg['Text'].replace('Parcel ','').replace('parcel ','')) # Extract Parcel ID from message\n",
    "        itchat.send_image(msg_filename, msg['FromUserName']) \n",
    "    ######################################################################################################\n",
    "\n",
    "        \n",
    "# 如果收到[PICTURE, RECORDING, ATTACHMENT, VIDEO]类的信息，会自动保存：\n",
    "@itchat.msg_register([PICTURE, RECORDING, ATTACHMENT, VIDEO]) # 图片、语音、文件、视频\n",
    "def download_files(msg):\n",
    "    msg['Text'](msg['FileName'])\n",
    "    print(u'[ Terminal Info ] Thank you! 谢谢亲[嘴唇]我已收到 I received: [ %s ] %s From: %s' \n",
    "          % ({'Picture': 'img', 'Video': 'vid'}.get(msg['Type'], 'fil'), msg['FileName'], msg['FromUserName']))\n",
    "    itchat.send(u'Thank you! 谢谢亲[嘴唇]我已收到\\nI received:', msg['FromUserName'])\n",
    "    return '@%s@%s' % ({'Picture': 'img', 'Video': 'vid'}.get(msg['Type'], 'fil'), msg['FileName'])\n",
    "\n",
    "\n",
    "# 如果收到新朋友的请求，会自动通过验证添加加好友，并主动打个招呼：幸会幸会！Nice to meet you!\n",
    "@itchat.msg_register(FRIENDS)\n",
    "def add_friend(msg):\n",
    "    print(u'[ Terminal Info ] New Friend Request 新朋友的请求，自动通过验证添加加好友 From: %s' % msg['RecommendInfo']['UserName']) \n",
    "    itchat.add_friend(**msg['Text']) # 该操作会自动将新好友的消息录入，不需要重载通讯录\n",
    "    itchat.send_msg(u'幸会幸会！Nice to meet you!', msg['RecommendInfo']['UserName'])\n",
    "\n",
    "    \n",
    "# 在群里，如果收到@自己的文字信息，会自动回复：\n",
    "@itchat.msg_register(TEXT, isGroupChat=True)\n",
    "def text_reply(msg):\n",
    "    if msg['isAt']:\n",
    "        print(u'[ Terminal Info ] Group@Info 在群里收到@自己的文字信息: %s From: %s %s' \n",
    "              % (msg['Content'], msg['ActualNickName'], msg['FromUserName']))\n",
    "        itchat.send(u'@%s\\u2005I received: %s' % (msg['ActualNickName'], msg['Content']), msg['FromUserName'])\n"
   ]
  },
  {
   "cell_type": "code",
   "execution_count": 9,
   "metadata": {
    "scrolled": true
   },
   "outputs": [
    {
     "name": "stderr",
     "output_type": "stream",
     "text": [
      "Start auto replying.\n"
     ]
    },
    {
     "name": "stdout",
     "output_type": "stream",
     "text": [
      "[ Terminal Info ] Thank you! 谢谢亲[嘴唇]我已收到 I received: [ Text ] Parcel DZ140053182NZ From: @f9f491d00285c688e41e618b45c0f05a\n",
      "[ Enquie Parcel ] ID : DZ140053182NZ | File Name : results/DZ140053182NZ-2019-07-25-12m27m42s.png\n",
      "[ Terminal Info ] New Friend Request 新朋友的请求，自动通过验证添加加好友 From: @f9f491d00285c688e41e618b45c0f05a\n",
      "[ Terminal Info ] Thank you! 谢谢亲[嘴唇]我已收到 I received: [ Note ] You have added 白黑 as your WeChat contact. Start chatting! From: @f9f491d00285c688e41e618b45c0f05a\n",
      "[ Terminal Info ] Thank you! 谢谢亲[嘴唇]我已收到 I received: [ Text ] Parcel DZ140053180NZ From: @f9f491d00285c688e41e618b45c0f05a\n",
      "[ Enquie Parcel ] ID : DZ140053180NZ | File Name : results/DZ140053180NZ-2019-07-25-12m31m09s.png\n",
      "[ Terminal Info ] Thank you! 谢谢亲[嘴唇]我已收到 I received: [ Text ] Parcel DZ140053180NZ From: @f9f491d00285c688e41e618b45c0f05a\n",
      "[ Enquie Parcel ] ID : DZ140053180NZ | File Name : results/DZ140053180NZ-2019-07-25-12m31m58s.png\n"
     ]
    },
    {
     "name": "stderr",
     "output_type": "stream",
     "text": [
      "Bye~\n"
     ]
    }
   ],
   "source": [
    "itchat.run()"
   ]
  },
  {
   "cell_type": "markdown",
   "metadata": {},
   "source": [
    "---"
   ]
  },
  {
   "cell_type": "markdown",
   "metadata": {},
   "source": [
    "# Try the parcel enquiry bot by yourself\n",
    "1. Scan below QR code to add friend IPA-Bot in WeChat\n",
    "2. Send a message to IPA-Bot, e.g. Parcel DZ140053180NZ\n"
   ]
  },
  {
   "cell_type": "markdown",
   "metadata": {},
   "source": [
    "<img src='reference/WeChat_IPA-Bot_QR.png' width=60% style=\"float: left;\">"
   ]
  },
  {
   "cell_type": "markdown",
   "metadata": {},
   "source": [
    "---"
   ]
  },
  {
   "cell_type": "code",
   "execution_count": 10,
   "metadata": {},
   "outputs": [
    {
     "data": {
      "text/plain": [
       "<ItchatReturnValue: {'BaseResponse': {'ErrMsg': '请求成功', 'Ret': 0, 'RawMsg': 'logout successfully.'}}>"
      ]
     },
     "execution_count": 10,
     "metadata": {},
     "output_type": "execute_result"
    }
   ],
   "source": [
    "# Click Kernel -> Interupt, then logout\n",
    "itchat.logout() # 安全退出"
   ]
  },
  {
   "cell_type": "markdown",
   "metadata": {},
   "source": [
    "<img src='reference/WeChat_SamGu_QR.png' width=20% style=\"float: left;\">"
   ]
  },
  {
   "cell_type": "markdown",
   "metadata": {},
   "source": [
    "### Workshop Enhancements:\n",
    "* Extend the parcel enquiry function to group chat when IPA-Bot is being @ : if msg['isAt']\n",
    "* Create a database/dataframe/csv for book keeping and administration\n",
    "* Process parcel enquiry for eligible customer only, by referring to a database."
   ]
  },
  {
   "cell_type": "markdown",
   "metadata": {},
   "source": [
    "---"
   ]
  }
 ],
 "metadata": {
  "kernelspec": {
   "display_name": "Python 3",
   "language": "python",
   "name": "python3"
  },
  "language_info": {
   "codemirror_mode": {
    "name": "ipython",
    "version": 3
   },
   "file_extension": ".py",
   "mimetype": "text/x-python",
   "name": "python",
   "nbconvert_exporter": "python",
   "pygments_lexer": "ipython3",
   "version": "3.6.4"
  }
 },
 "nbformat": 4,
 "nbformat_minor": 2
}
